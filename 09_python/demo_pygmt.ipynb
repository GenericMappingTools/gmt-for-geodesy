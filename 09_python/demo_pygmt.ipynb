{
 "cells": [
  {
   "cell_type": "markdown",
   "id": "26bc0f4f-914c-48c1-abf9-f2a1da587dda",
   "metadata": {},
   "source": [
    "# PyGMT - A Python interface for the Generic Mapping Tools"
   ]
  },
  {
   "cell_type": "markdown",
   "id": "052e0e10-dbdf-4e74-acb7-645e969b731c",
   "metadata": {},
   "source": [
    "## Why use PyGMT?\n",
    "\n",
    "To get access to GMT's functionality directly from Python!\n"
   ]
  },
  {
   "cell_type": "markdown",
   "id": "79e28c31-17d6-404d-b771-64236a146001",
   "metadata": {},
   "source": [
    "## Project goals\n",
    "\n",
    "- Make GMT more accessible to new users.\n",
    "- Build a Pythonic API for GMT.\n",
    "- Interface with the GMT C API directly using ctypes (no system calls).\n",
    "- Support for rich display in the Jupyter notebook.\n",
    "- Integration with the PyData ecosystem: numpy ndarray or pandas DataFrame for data tables, xarray DataArray for grids and geopandas GeoDataFrame for geographical data."
   ]
  },
  {
   "cell_type": "markdown",
   "id": "721c6353-ca54-4d86-8a47-ebad11cff9cd",
   "metadata": {},
   "source": [
    "## Where to find out more\n",
    "\n",
    "Take a look at our [Tutorials](https://www.pygmt.org/latest/tutorials),\n",
    "visit the [PyGMT Gallery](https://www.pygmt.org/latest/gallery), and\n",
    "some [external PyGMT examples](https://www.pygmt.org/latest/external_resources.html)!"
   ]
  },
  {
   "cell_type": "markdown",
   "id": "6edc3564",
   "metadata": {},
   "source": [
    "### About this demo\n",
    "\n",
    "In this demo, we will go over the same examples from earlier in this short course but in Python! The workflow for each example would likely be different if starting in Python, but hopefully this will be a helpful learning exercise for the differences between CLI GMT and PyGMT."
   ]
  },
  {
   "cell_type": "markdown",
   "id": "bbb546a3-b6f4-4907-b6e3-d3f878041f9d",
   "metadata": {},
   "source": [
    "## Basics"
   ]
  },
  {
   "cell_type": "code",
   "execution_count": null,
   "id": "4f811065-9e41-40bc-b364-f975d0bfb84b",
   "metadata": {},
   "outputs": [],
   "source": [
    "import pygmt\n",
    "import numpy as np\n",
    "import pandas as pd"
   ]
  },
  {
   "cell_type": "code",
   "execution_count": null,
   "id": "9b8d8e89-43f5-4576-bcc3-eabea1366f6b",
   "metadata": {},
   "outputs": [],
   "source": [
    "# Load the class first. This only needs to be run once\n",
    "from IPython.display import Image"
   ]
  },
  {
   "cell_type": "markdown",
   "id": "6a26c53d-c49e-4a65-a269-d0d8f9b242fd",
   "metadata": {},
   "source": [
    "### Bash example"
   ]
  },
  {
   "cell_type": "code",
   "execution_count": null,
   "id": "b1e38aa3-b7c5-40f4-9d8b-f80319c5cc08",
   "metadata": {},
   "outputs": [],
   "source": [
    "%%bash\n",
    "# GMT version\n",
    "gmt begin italy png\n",
    "    gmt coast -R5/20/35/50 -Wthin -Gwheat -EIT+gred -Df -Sazure -B -N1/thick,red -JM15c\n",
    "    gmt inset begin -DjTR+w4c+o0.2c -F+gwhite+pthick\n",
    "        gmt coast -Rg -JG10E/25N/? -Gwheat -Bg -EIT+gred\n",
    "    gmt inset end\n",
    "gmt end"
   ]
  },
  {
   "cell_type": "code",
   "execution_count": null,
   "id": "3d9e6b6c-0ea5-4651-a46a-a51a9e06ace0",
   "metadata": {},
   "outputs": [],
   "source": [
    "Image('italy.png', width=500)"
   ]
  },
  {
   "cell_type": "markdown",
   "id": "056c53c2-5057-4e18-bb1e-a15ed6a18463",
   "metadata": {},
   "source": [
    "### Python example"
   ]
  },
  {
   "cell_type": "code",
   "execution_count": null,
   "id": "69d7c5c7-3723-4831-9a89-e82b6820581b",
   "metadata": {},
   "outputs": [],
   "source": [
    "# Create an instance of the figure class\n",
    "fig = pygmt.Figure()\n",
    "# Plot coastlines, land, water, country borders, and a map frame\n",
    "fig.coast(\n",
    "    region=[5,20,35,50],\n",
    "    shorelines=\"thin\",\n",
    "    land=\"wheat\",\n",
    "    dcw=\"IT+gred\",\n",
    "    water=\"azure\",\n",
    "    frame=True,\n",
    "    borders=\"1/thick,red\",\n",
    "    projection=\"M15c\"\n",
    ")\n",
    "# Plot an inset with global map\n",
    "with fig.inset(position=\"jTR+w4c+o0.2c\", box=\"+gwhite+pthick\"):\n",
    "    fig.coast(region=\"g\", projection=\"G10E/25N/?\", land=\"wheat\", frame=\"g\", dcw=\"IT+gred\")\n",
    "# Display the result\n",
    "fig.show()"
   ]
  },
  {
   "cell_type": "markdown",
   "id": "c2ec70e1-5ff9-4cff-82f3-1e67a70b1181",
   "metadata": {},
   "source": [
    "## Lines and Symbols"
   ]
  },
  {
   "cell_type": "markdown",
   "id": "96bbf063-de37-4c93-995a-af50ac02a156",
   "metadata": {},
   "source": [
    "### Bash example"
   ]
  },
  {
   "cell_type": "code",
   "execution_count": null,
   "id": "f15cb8aa-2640-4840-9144-bd64bf8bb93b",
   "metadata": {},
   "outputs": [],
   "source": [
    "%%bash\n",
    "gmt begin lines png\n",
    "    # Continous red line\n",
    "    echo  0 0  > t.dat\n",
    "    echo 10 1 >> t.dat\n",
    "    gmt plot t.dat -R-1/11/-1/11 -JX14 -Baf -BWSen -W1,red\n",
    "\n",
    "    # Continous thick green line\n",
    "    echo  0 1  > t.dat\n",
    "    echo 10 2 >> t.dat\n",
    "    gmt plot t.dat -W3,green\n",
    "\n",
    "    # Dashed thick blue line\n",
    "    echo  0 2  > t.dat\n",
    "    echo 10 3 >> t.dat\n",
    "    gmt plot t.dat -W3,blue,dashed\n",
    "\n",
    "    # Dotted black line\n",
    "    echo  0 3  > t.dat\n",
    "    echo 10 4 >> t.dat\n",
    "    gmt plot t.dat -W1,black,dotted\n",
    "\n",
    "    # Dash-Dot green line\n",
    "    echo  0 4  > t.dat\n",
    "    echo 10 5 >> t.dat\n",
    "    gmt plot t.dat -W1,0/150/0,-.\n",
    "\n",
    "    # Using round corners\n",
    "    echo  0 5  > t.dat\n",
    "    echo 10 6 >> t.dat\n",
    "    gmt plot t.dat --PS_LINE_CAP=round -W4,black,dashed\n",
    "\n",
    "    # Annotated line\n",
    "    echo  0 7  > t.dat\n",
    "    echo 10 7 >> t.dat\n",
    "    gmt plot t.dat  -Sqn15:+f25+l~ -W1,sienna\n",
    "\n",
    "    echo 5 7.1 Now, a bit harder | gmt text -C -F+f18+jMC -Gwhite    \n",
    "    # Simulating circles with a dashed line\n",
    "    echo  0 8  > t.dat\n",
    "    echo 10 9 >> t.dat\n",
    "    gmt plot t.dat --PS_LINE_CAP=round -W10,orange,0_20:0\n",
    "\n",
    "    # Alternating larger and smaller circles\n",
    "    echo  0  9  > t.dat\n",
    "    echo 10 10 >> t.dat\n",
    "    gmt plot t.dat --PS_LINE_CAP=round -W6,brown,0_20:0\n",
    "\n",
    "    echo  0  9  > t.dat\n",
    "    echo 10 10 >> t.dat\n",
    "    gmt plot t.dat --PS_LINE_CAP=round -W3,green,0_20:10\n",
    "gmt end\n"
   ]
  },
  {
   "cell_type": "code",
   "execution_count": null,
   "id": "190ac0fd-9de9-4604-a3a4-016ad68cfbf4",
   "metadata": {},
   "outputs": [],
   "source": [
    "Image('lines.png', width=500)"
   ]
  },
  {
   "cell_type": "markdown",
   "id": "3b81182e-4966-44e5-b13f-db89c2c16807",
   "metadata": {},
   "source": [
    "### Python example"
   ]
  },
  {
   "cell_type": "code",
   "execution_count": null,
   "id": "c99ed770-7ec8-45bd-927f-f78efa27bfe0",
   "metadata": {},
   "outputs": [],
   "source": [
    "x = np.array([0, 10])\n",
    "y = np.array([0, 1])\n",
    "\n",
    "\n",
    "fig = pygmt.Figure()\n",
    "fig.plot(x=x, y=y, region=[-1, 11,  -1, 11], projection=\"X14\", frame=[\"af\", \"WSen\"], pen=\"1,red\")\n",
    "fig.plot(x=x, y=y+1, pen=\"3,green\")\n",
    "fig.plot(x=x, y=y+2, pen=\"3,blue,dashed\")\n",
    "fig.plot(x=x, y=y+3, pen=\"1,black,dotted\")\n",
    "fig.plot(x=x, y=y+4, pen=\"1,0/150/0,-.\")\n",
    "with pygmt.config(PS_LINE_CAP=\"round\"):\n",
    "    fig.plot(x=x, y=y+5, pen=\"4,black,dashed\")\n",
    "fig.plot(x=x, y=y+6, pen=\"1,sienna\", style=\"qn15:+f25+l~\")\n",
    "with pygmt.config(PS_LINE_CAP=\"round\"):\n",
    "    fig.plot(x=x, y=y+7, pen=\"10,orange,0_20:0\")\n",
    "    fig.plot(x=x, y=y+8, pen=\"6,brown,0_20:0\")\n",
    "    fig.plot(x=x, y=y+8, pen=\"3,green,0_20:10\")\n",
    "fig.show()"
   ]
  },
  {
   "cell_type": "markdown",
   "id": "99362fc6-98b4-40e1-9f93-3c83407a316c",
   "metadata": {},
   "source": [
    "## Grids"
   ]
  },
  {
   "cell_type": "markdown",
   "id": "88939bd6-1c44-4c36-99d4-10f9f8ba8df7",
   "metadata": {},
   "source": [
    "### Bash example"
   ]
  },
  {
   "cell_type": "code",
   "execution_count": null,
   "id": "36216592-abca-4c29-8d30-4e64f7beca52",
   "metadata": {},
   "outputs": [],
   "source": [
    "%%bash\n",
    "gmt begin 5_exercise png\n",
    "\n",
    "    # Set a Mercator projection, and region for Argentina.\n",
    "    gmt basemap -RAR,FK,GS+r2 -JM15c -B+n\n",
    "    \n",
    "    # Set the default freme (-Baf) and add a title to the plot (-B+t).\n",
    "    gmt basemap -Baf -B+t\"Relief map of Argentina\"\n",
    "\n",
    "    # Plot the earth synbath data using the \"oleron\" CPT. Adding shading at a 45\n",
    "    # degree azimuth (+a45) with intensity scaled to 2 (+nt2)\n",
    "    gmt grdimage @earth_synbath -I+a45+nt2 -Coleron\n",
    "\n",
    "    # Plot contours on top of the shaded grid. Limit to negative contours only\n",
    "    # (-Ln) and ommit contours less 1000 km long (-Q). For the annotations,\n",
    "    # configure the font size to be 6pt (+f).\n",
    "    gmt grdcontour @earth_synbath -Ln -Q1000k \\\n",
    "        -C200 -Wcthinnest,gray20 \\\n",
    "        -A1000+f6p+gwhite+p -Wathinnest,gray20\n",
    "\n",
    "    # Plot the country borders (-N1) in white.\n",
    "    gmt coast -N1/white\n",
    "\n",
    "    # Plate a colorbar inside ner the right top with and offset in x (+o) and\n",
    "    # customize the width and height (+w). Set the label interval (-B) and add\n",
    "    # an annotation to the x axis (-Bx+l). Add a frame around the colorbar (-F).\n",
    "    gmt colorbar -DjTR+o1.7c/0.4c+w70%/0.5c -I -Ba1 -Bx+l\"km\" -W0.001 -F+gwhite+p+r+s\n",
    "\n",
    "gmt end"
   ]
  },
  {
   "cell_type": "code",
   "execution_count": null,
   "id": "646cf1f1-bbf3-4e9e-a9ad-44924ff1a608",
   "metadata": {},
   "outputs": [],
   "source": [
    "Image('5_exercise.png', width=500)"
   ]
  },
  {
   "cell_type": "markdown",
   "id": "1de79980-2efd-4598-90ce-3ecc74bd36b1",
   "metadata": {},
   "source": [
    "### Python example"
   ]
  },
  {
   "cell_type": "code",
   "execution_count": null,
   "id": "c4b364fc-2a6a-4df5-808f-391727e1b67a",
   "metadata": {},
   "outputs": [],
   "source": [
    "fig = pygmt.Figure()\n",
    "fig.basemap(region=\"AR,FK,GS+r2\", projection=\"M15c\", frame=\"+n\")\n",
    "fig.basemap(frame=[\"af\",\"+tRelief map of Argentina\"])\n",
    "fig.grdimage(\"@earth_synbath\", shading=\"+a45+nt2\", cmap=\"oleron\")\n",
    "fig.grdcontour(\n",
    "    \"@earth_synbath\",\n",
    "    limit=\"n\",\n",
    "    cut=\"1000k\",\n",
    "    interval=200,\n",
    "    pen=[\"cthinnest,gray20\", \"athinnest,gray20\"],\n",
    "    annotation=\"1000+f6p+gwhite+p\"\n",
    ")\n",
    "fig.coast(borders=\"1/white\")\n",
    "fig.colorbar(\n",
    "    position=\"jTR+o1.7c/0.4c+w70%/0.5c\",\n",
    "    shading=True,\n",
    "    frame=[\"a1\", \"x+lkm\"],\n",
    "    scale=0.001,\n",
    "    box=\"+gwhite+p+r+s\"\n",
    ")\n",
    "fig.show()"
   ]
  },
  {
   "cell_type": "markdown",
   "id": "14b71ea2-c341-4a82-889c-28dac55182e2",
   "metadata": {},
   "source": [
    "## Seismology"
   ]
  },
  {
   "cell_type": "markdown",
   "id": "c619542b-8da7-48a4-a986-762c07675a39",
   "metadata": {},
   "source": [
    "### Bash example"
   ]
  },
  {
   "cell_type": "code",
   "execution_count": null,
   "id": "971919a6-1302-4b6f-a74f-ff5460966071",
   "metadata": {},
   "outputs": [],
   "source": [
    "%%bash\n",
    "gmt begin\n",
    "    # Figure 1: Beachballs on maps\n",
    "    gmt figure japan-beachballs-mapview png\n",
    "\n",
    "    # plot basemap, setting map width, region and frames\n",
    "    gmt basemap -R122/147/30/48 -JM15c -BWSen -Baf\n",
    "    # Plot Earth relief by mapping values to colors using the \"globe\" CPT\n",
    "    # Set automatic shading effects\n",
    "    gmt grdimage @earth_relief_02m -I+d\n",
    "    # Add the colorbar to the Top Right (TR) and shift to the right by 2 cm.\n",
    "    # The colorbar width is set to be 6 cm.\n",
    "    gmt colorbar -DjTR+o-2c/0c+w6c+ml -Ba2000+l\"Earth relief (m)\"\n",
    "\n",
    "    # Customize the jet CPT for earthquake depth from 0 to 700\n",
    "    gmt makecpt -Cjet -T0/700/100\n",
    "    # -C: Color the beachballs based on earthquake depths and the \"current\" CPT\n",
    "    gmt meca ../5_seismology/japan-focal.dat -Sd0.5c+f0p -C\n",
    "    # Add the colorbar to the Bottom Right (BR) and shift to the right by 2 cm.\n",
    "    # The colorbar is reversed by giving a negative length (+w-6c).\n",
    "    gmt colorbar -DjBR+o-2c/0c+w-6c+ml -Ba100+l\"Focal depth (km)\"\n",
    "\n",
    "    # Prepare data file for plotting and label the cross-section line\n",
    "    echo 126 42 A > xsection.dat\n",
    "    echo 146 40 B >> xsection.dat\n",
    "    # plot the cross-section line, with a 2 point, red pen\n",
    "    # the plot column only needs the longitude and latitude of the input file, and ignores the third column\n",
    "    gmt plot xsection.dat -W2p,red\n",
    "    # label the cross-section by \"A\" and \"B\", with a font size of 15 points\n",
    "    gmt text xsection.dat -F+f15p\n",
    "\n",
    "\n",
    "    # Figure 2: Beachball cross-sections\n",
    "    gmt figure japan-beachballs-sideview png\n",
    "    # Customize the jet CPT for earthquake depth from 0 -700\n",
    "    gmt makecpt -Cjet -T0/700/100\n",
    "    # The cross-section is selected by specifly the locations (longitude and latitude) of a starting point (126/42),\n",
    "    # and a ending point (146/40). The cross-section plane is vertical (dip angle=90), with the width set to be 500 km,\n",
    "    # and depth to be 0-70 km.\n",
    "    #\n",
    "    # To reverse the Y axis, set the figure heigth to a negative value (-10 cm)\n",
    "    gmt coupe ../5_seismology/japan-focal.dat -Sd0.5c+f0p -Aa126/42/146/40/700+r+w500 -Q -C \\\n",
    "        -JX15c/-10c -BWSen -Bxaf+l\"Distance (km)\" -Byaf+l\"Depth (km)\"\n",
    "    # Add the colorbar to the Bottom Right (BR) and shift to the right by 2 cm.\n",
    "    # The colorbar is reversed by giving a negative length (+w-10c).\n",
    "    gmt colorbar -DjBR+o-2c/0c+w-10c+ml -Np -Ba100+l\"Focal depth (km)\"\n",
    "\n",
    "    # cleanup temporary files\n",
    "    rm xsection.dat\n",
    "gmt end\n"
   ]
  },
  {
   "cell_type": "code",
   "execution_count": null,
   "id": "55b411fb-129b-4fa7-82d3-e102b33aa117",
   "metadata": {},
   "outputs": [],
   "source": [
    "Image('japan-beachballs-mapview.png', width=500)"
   ]
  },
  {
   "cell_type": "markdown",
   "id": "6aac7d14-13c1-49fc-b739-7c6b9ab47f1c",
   "metadata": {},
   "source": [
    "### Python example"
   ]
  },
  {
   "cell_type": "code",
   "execution_count": null,
   "id": "a286c54a-e188-4c36-ac75-75713a50a6ca",
   "metadata": {},
   "outputs": [],
   "source": [
    "Image('japan-beachballs-sideview.png', width=500)"
   ]
  },
  {
   "cell_type": "code",
   "execution_count": null,
   "id": "f3e033ba-0137-4501-8234-0cab43f1f05f",
   "metadata": {},
   "outputs": [],
   "source": [
    "xcross = np.array([126, 146])\n",
    "ycross = np.array([42, 40])\n",
    "text = np.array([\"A\", \"B\"])\n",
    "fig = pygmt.Figure()\n",
    "fig.basemap(region=[122,147,30,48], projection=\"M15c\", frame=[\"WSen\", \"af\"])\n",
    "fig.grdimage(\"@earth_relief_02m\", shading=\"+a\")\n",
    "fig.colorbar(position=\"jTR+o-2c/0c+w6c+ml\", frame='a2000+l\"Earth relief (m)\"')\n",
    "pygmt.makecpt(cmap=\"jet\", series=[0, 700, 100])\n",
    "fig.meca('../5_seismology/japan-focal.dat', convention=\"mt\", scale=\"0.5c+f0p\", C=True)\n",
    "fig.colorbar(position=\"jBR+o-2c/0c+w-6c+ml\", frame='a100+l\"Focal depth (km)\"')\n",
    "fig.plot(x=xcross, y=ycross, pen=\"2p,red\")\n",
    "fig.text(x=xcross, y=ycross, text=text, font=\"15p\")\n",
    "fig.show()"
   ]
  },
  {
   "cell_type": "markdown",
   "id": "dd61c143-f8ab-4d0a-85a8-ed0270970bfb",
   "metadata": {},
   "source": [
    "### Python example"
   ]
  },
  {
   "cell_type": "code",
   "execution_count": null,
   "id": "77691bd5-f81c-42e1-a44f-e21a5a170a71",
   "metadata": {},
   "outputs": [],
   "source": [
    "fig = pygmt.Figure()\n",
    "pygmt.makecpt(cmap=\"jet\", series=[0, 700, 100])\n",
    "with pygmt.clib.Session() as session:\n",
    "    session.call_module(\n",
    "        \"coupe\",\n",
    "        '../5_seismology/japan-focal.dat -Sd0.5c+f0p -Aa126/42/146/40/700+r+w500 -Q -C -JX15c/-10c -BWSen -Bxaf+l\"Distance (km)\" -Byaf+l\"Depth (km)\"'\n",
    "    )\n",
    "fig.colorbar(position=\"jBR+o-2c/0c+w-10c+ml\", N=\"p\", frame='a100+l\"Focal depth (km)\"')\n",
    "fig.show()"
   ]
  },
  {
   "cell_type": "markdown",
   "id": "b792cc39-b8b3-4bb6-b24b-52c7df066e58",
   "metadata": {},
   "source": [
    "## Geodesy"
   ]
  },
  {
   "cell_type": "markdown",
   "id": "be112695-4aba-444f-a3ee-78388e0c10f9",
   "metadata": {},
   "source": [
    "### Bash example"
   ]
  },
  {
   "cell_type": "code",
   "execution_count": null,
   "id": "3d8f74eb-97cd-46fa-b631-5141ab1b6d8f",
   "metadata": {},
   "outputs": [],
   "source": [
    "%%bash\n",
    "#!/bin/bash\n",
    "dem=\"../6_geodesy/dem_dsamp.grd\"\n",
    "gps=\"../6_geodesy/GPS.dat\"\n",
    "RR=`gmt grdinfo -I- $dem`\n",
    "output=\"demo\"\n",
    "format=\"png\"\n",
    "\n",
    "gmt begin $output $format\n",
    "    gmt basemap -JM6 $RR -Ba1f0.5\n",
    "    gmt grdimage $dem -I+nt.3 -Cgeo\n",
    "    gmt coast -Na/0.5p,black,-.- -Slightblue -Df\n",
    "    gmt grdsample ../6_geodesy/dE.grd -I0.1 -Gtmpe.grd\n",
    "    gmt grdsample ../6_geodesy/dN.grd -I0.1 -Gtmpn.grd\n",
    "    gmt grd2xyz tmpe.grd > tmpe.lld\n",
    "    gmt grd2xyz tmpn.grd > tmpn.lld\n",
    "    paste tmpe.lld tmpn.lld | awk '{print $1,$2,$3,$6,\"0\",\"0\",\"0\"}' > defo.dat\n",
    "\n",
    "    gmt velo defo.dat -W0.1p,black -Se0.02/0.65/10 -A10p+eA+n10\n",
    "    gmt plot ../6_geodesy/new_faults.gmt -W0.5p,red\n",
    "    gmt velo $gps -W1p,blue -Gblack -Se0.02/0.65/12 -A10p+ea+n10 \n",
    "gmt end"
   ]
  },
  {
   "cell_type": "code",
   "execution_count": null,
   "id": "03f193ae-9e55-46dd-8537-f42755de3a77",
   "metadata": {},
   "outputs": [],
   "source": [
    "Image('demo.png', width=500)"
   ]
  },
  {
   "cell_type": "markdown",
   "id": "ae9a598a-c71d-4f34-b950-3236cac07f83",
   "metadata": {},
   "source": [
    "### Python example"
   ]
  },
  {
   "cell_type": "code",
   "execution_count": null,
   "id": "59c11d9f-abc7-41d9-bd21-0a13c555080e",
   "metadata": {},
   "outputs": [],
   "source": [
    "dem='../6_geodesy/dem_dsamp.grd'\n",
    "region = pygmt.grdinfo(dem, spacing=\"-\")[2:-1]\n",
    "fig = pygmt.Figure()\n",
    "fig.basemap(projection=\"M6\", region=region, frame=\"a1f0.5\")\n",
    "fig.grdimage(dem, shading=\"+nt.3\", cmap=\"geo\")\n",
    "fig.coast(borders=\"a/0.5p,black,-.-\", water=\"lightblue\", resolution=\"f\")\n",
    "tmpe = pygmt.grdsample('../6_geodesy/dE.grd', spacing=0.1)\n",
    "tmpn = pygmt.grdsample('../6_geodesy/dN.grd', spacing=0.1)\n",
    "tmpe_lld = pygmt.grd2xyz(tmpe)\n",
    "tmpn_lld = pygmt.grd2xyz(tmpn)\n",
    "data = pd.concat([tmpn_lld[['x', 'y']], tmpe_lld['z'], tmpn_lld['z'], pd.DataFrame(np.zeros((len(tmpn_lld['z']), 3)))], axis=1)\n",
    "fig.velo(data, pen=\"0.1p,black\", spec=\"e0.02/0.65/10\", vector=\"10p+eA+n10\")\n",
    "fig.plot('../6_geodesy/new_faults.gmt', pen=\"0.5p,red\")\n",
    "fig.velo('../6_geodesy/GPS.dat', pen=\"1p,blue\", color=\"black\", spec=\"e0.02/0.65/12\", vector=\"10p+ea+n10\")\n",
    "fig.show()"
   ]
  },
  {
   "cell_type": "markdown",
   "id": "38dbdb92-eb73-4d80-8575-da9aff46d965",
   "metadata": {},
   "source": [
    "## Stay involved!\n",
    "\n",
    "We'd love for you to get more involved in PyGMT! Some ideas are to [post on the PyGMT forum Q&A](https://forum.generic-mapping-tools.org/c/questions/pygmt-q-a/11), help [contribute to our documentation](https://github.com/GenericMappingTools/pygmt/issues?q=is%3Aopen+is%3Aissue+label%3Adocumentation), or [add some features](https://github.com/GenericMappingTools/pygmt/issues?q=is%3Aopen+is%3Aissue+label%3A%22feature+request%22)! As always, get in touch with any questions!"
   ]
  },
  {
   "cell_type": "code",
   "execution_count": null,
   "id": "fe037704-6b3d-4be2-b542-46516291d428",
   "metadata": {},
   "outputs": [],
   "source": []
  }
 ],
 "metadata": {
  "kernelspec": {
   "display_name": "Python 3 (ipykernel)",
   "language": "python",
   "name": "python3"
  },
  "language_info": {
   "codemirror_mode": {
    "name": "ipython",
    "version": 3
   },
   "file_extension": ".py",
   "mimetype": "text/x-python",
   "name": "python",
   "nbconvert_exporter": "python",
   "pygments_lexer": "ipython3",
   "version": "3.10.5"
  }
 },
 "nbformat": 4,
 "nbformat_minor": 5
}
