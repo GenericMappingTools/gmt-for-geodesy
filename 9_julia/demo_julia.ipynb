{
 "cells": [
  {
   "cell_type": "markdown",
   "metadata": {},
   "source": [
    "# Using GMT from Julia ... and never come back\n",
    "\n",
    "See the [manual](https://www.generic-mapping-tools.org/GMTjl_doc/) with lots of examples"
   ]
  },
  {
   "cell_type": "code",
   "execution_count": 1,
   "metadata": {},
   "outputs": [],
   "source": [
    "# Start the GMT session\n",
    "using GMT"
   ]
  },
  {
   "cell_type": "markdown",
   "metadata": {},
   "source": [
    "Download a chunk of the earth_relief grid at 5 minutes grid spacing.\n",
    "The first time it has to download the data so it may take a little."
   ]
  },
  {
   "cell_type": "code",
   "execution_count": null,
   "metadata": {},
   "outputs": [],
   "source": [
    "G = grdcut(\"@earth_relief_05m\", region=\"IHO23\");"
   ]
  },
  {
   "cell_type": "code",
   "execution_count": null,
   "metadata": {},
   "outputs": [],
   "source": [
    "# Display some of the grid's metadata\n",
    "show(G)"
   ]
  },
  {
   "cell_type": "markdown",
   "metadata": {},
   "source": [
    "We can make crazy things with this grid object addressing to it with just its variable name, *G*,\n",
    "as for example use it in a *calculator*"
   ]
  },
  {
   "cell_type": "code",
   "execution_count": null,
   "metadata": {},
   "outputs": [],
   "source": [
    "# Get the array's minmax (like gmtinfo)\n",
    "extrema(G)"
   ]
  },
  {
   "cell_type": "code",
   "execution_count": null,
   "metadata": {},
   "outputs": [],
   "source": [
    "# Some dumb calculations\n",
    "G2 = sqrt.(G .+ 10000) ./ 2;\t# Does NOT make grid copies\n",
    "setgrdminmax!(G2)\t\t\t\t# Need to update z_min/max\n",
    "extrema(G2)"
   ]
  },
  {
   "cell_type": "markdown",
   "metadata": {},
   "source": [
    "OK, but let's go back to the bathymetry grid and make a quick but very nice image that uses the\n",
    "GMT.jl guessing powers. The command automatically pick an apropriate projection, adds coastlines,\n",
    "a colorbar and shows the result."
   ]
  },
  {
   "cell_type": "code",
   "execution_count": null,
   "metadata": {},
   "outputs": [],
   "source": [
    "imshow(G, proj=:guess, cmap=:geo, shade=true, coast=true, colorbar=true)"
   ]
  },
  {
   "cell_type": "markdown",
   "metadata": {},
   "source": [
    "But if we want to add more elements to the figure and can't do it in a single shot. In that case\n",
    "the `imshow` command is not the most appropriate. We will use `grdimge`, `meca` and `plot` modules to\n",
    "add a focal mechanism and a volcano. We plot also the Maritime Boundaries extracted directly from a\n",
    "zipped shapefile without even uncompress it."
   ]
  },
  {
   "cell_type": "code",
   "execution_count": null,
   "metadata": {},
   "outputs": [],
   "source": [
    "# Lay down the basemap that includes a shaded image, coastlines and a colorbar \n",
    "grdimage(G, proj=:guess, cmap=:geo, shade=true, coast=true, colorbar=true)\n",
    "\n",
    "# Read and plot the EEZ from a low resolution zipped shapefile (no unzipping is needed)\n",
    "eez =  gmtread(\"/vsizip/EEZ.shp.zip\", ogr=true);\n",
    "plot!(eez, lw=0.75, ls=:dash, lc=:blue)\n",
    "\n",
    "# Create an example focal mechanism of a strike slip event\n",
    "D = mat2ds([-42.4 10.7 0.0 0 90 0 5 -40 17],[\"Right Strike-slip\"]);\n",
    "gmtwrite(\"onemeca.dat\", D)\t\t# Due to a GMT bug we need to plot it from file otherwise the offset won't work\n",
    "meca!(\"onemeca.dat\", aki=(scale=0.6, font=(10,\"Helvetica\",:white)), fill=:black, offset=true)\n",
    "\n",
    "# Add a little volcano symbol where an eruption was about to happen this year (2022) ... and it's not over yet.\n",
    "plot!([-28 38.5], marker=(custom=\"volcano\", size=0.4), ml=0.5, fill=:red, show=true)"
   ]
  },
  {
   "cell_type": "markdown",
   "metadata": {},
   "source": [
    "### Change subject and let's look at tides\n",
    "\n",
    "Did you know that the solid Earth also has tides? And they are not that small.\n",
    "\n",
    "#### Compute the vertical component of the solid Earth tide for the day July 7 2022"
   ]
  },
  {
   "cell_type": "code",
   "execution_count": null,
   "metadata": {},
   "outputs": [],
   "source": [
    "G = earthtide(T=\"2022-07-07T12:00:00\");"
   ]
  },
  {
   "cell_type": "code",
   "execution_count": null,
   "metadata": {},
   "outputs": [],
   "source": [
    "# Display it\n",
    "imshow(G, coast=true, colorbar=true, title=\"Earth tide at noon 7-July-2022\")"
   ]
  },
  {
   "cell_type": "markdown",
   "metadata": {},
   "source": [
    "Let's look also at the individual components. For that we specify a location and a time period.\n",
    "We will start be looking at one day worth of tides."
   ]
  },
  {
   "cell_type": "code",
   "execution_count": null,
   "metadata": {},
   "outputs": [],
   "source": [
    "D = earthtide(range=\"2022-07-07T/2022-07-08T/1m\", location=(-82,9))\n",
    "show(D)"
   ]
  },
  {
   "cell_type": "markdown",
   "metadata": {},
   "source": [
    "And now we plot all three of them in the same figure."
   ]
  },
  {
   "cell_type": "code",
   "execution_count": null,
   "metadata": {},
   "outputs": [],
   "source": [
    "plot(D[:Time, :Vertical], lc=:red, lw=1, legend=:Vertical,\n",
    "     title=\"Earth tide components (m) at Panama Cannal\")\n",
    "plot!(D[:Time, :East],  lc=:green, lw=1, legend=:East)\n",
    "plot!(D[:Time, :North], lc=:blue,  lw=1, legend=:North, show=true)"
   ]
  },
  {
   "cell_type": "markdown",
   "metadata": {},
   "source": [
    "What does it look like over one month?"
   ]
  },
  {
   "cell_type": "code",
   "execution_count": null,
   "metadata": {},
   "outputs": [],
   "source": [
    "D = earthtide(range=(\"2022-07-01T\", \"2022-07-31T\", \"1m\"), location=(-82,9));\n",
    "plot(D[:Time, :Vertical], lc=:blue, legend=:Vertical, title=\"Tides (m), one month\", show=true)"
   ]
  }
 ],
 "metadata": {
  "kernelspec": {
   "display_name": "Julia 1.7.0",
   "language": "julia",
   "name": "julia-1.7"
  },
  "language_info": {
   "file_extension": ".jl",
   "mimetype": "application/julia",
   "name": "julia",
   "version": "1.7.0"
  },
  "orig_nbformat": 4
 },
 "nbformat": 4,
 "nbformat_minor": 2
}
