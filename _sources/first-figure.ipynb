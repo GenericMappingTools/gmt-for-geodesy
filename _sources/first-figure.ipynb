{
 "cells": [
  {
   "cell_type": "markdown",
   "id": "79c5f84e-3c5b-49f0-80a6-d4bd43aed2f8",
   "metadata": {},
   "source": [
    "# Anatomy of a GMT figure\n",
    "\n",
    "This tutorial will cover the fundamental concepts behind making figures with GMT, including starting a modern mode session, setting a region, drawing a map frame, choosing a projection, and adding simple elements (e.g., coastlines) to a map.\n",
    "\n",
    "Let's get started!"
   ]
  },
  {
   "cell_type": "markdown",
   "id": "dc74cdd5-e7b0-4365-a3c2-97d71d9f22f1",
   "metadata": {},
   "source": [
    "## Creating a GMT session \n",
    "\n",
    "In GMT modern mode, all processing and plotting commands are contained within a code block starting with `gmt begin` and ending with `gmt end`.\n",
    "\n",
    "In the Jupyter Notebook, we use cell magic (`%%bash`) to show that the cell should be executed as a bash script. In a regular bash script,\n",
    "you would instead put `#!/usr/bin/env bash` at the top of your script. We also use the `IPython.display.Image class` to show the figures\n",
    "created by the GMT sessions in the Jupyter notebook."
   ]
  },
  {
   "cell_type": "code",
   "execution_count": null,
   "id": "35fe6fa4",
   "metadata": {},
   "outputs": [],
   "source": [
    "# Load the class first. This only needs to be run once\n",
    "from IPython.display import Image"
   ]
  },
  {
   "cell_type": "code",
   "execution_count": null,
   "id": "19ef3de2-9333-4b0e-81ac-e518415ab9fe",
   "metadata": {},
   "outputs": [],
   "source": [
    "%%bash\n",
    "\n",
    "# Start a modern mode session\n",
    "gmt begin # optionally append a session name (e.g., 'gmtsession') and one or more comman-separated figure formats (e.g., 'png,pdf')\n",
    "    # Any number of gmt and UNIX commands can go between 'gmt begin' and 'gmt end'\n",
    "# End a modern mode session\n",
    "gmt end # optionally append 'show' to display the outputs"
   ]
  },
  {
   "cell_type": "markdown",
   "id": "bed48601-63c5-485e-89a6-e55f37e26bdb",
   "metadata": {},
   "source": [
    "## Drawing coastlines\n",
    "\n",
    "We need to specify the geographic bounding box that contains the data/features we want to plot. This bounding box is set using the **-R** common option and it has the format of a string containing the **West/East/South/North** (WESN) coordinates of the bounding box. We can lay down the coastlines for this region using **-W** option of the `coast` module."
   ]
  },
  {
   "cell_type": "code",
   "execution_count": null,
   "id": "d384b527-8ed5-4eb2-8708-d478d7cbcca8",
   "metadata": {},
   "outputs": [],
   "source": [
    "%%bash\n",
    "\n",
    "gmt begin coastlines png\n",
    "    gmt coast -R125/155/30/55 -W\n",
    "gmt end"
   ]
  },
  {
   "cell_type": "code",
   "execution_count": null,
   "id": "a04ddc7b",
   "metadata": {},
   "outputs": [],
   "source": [
    "Image('coastlines.png', width=300)"
   ]
  },
  {
   "cell_type": "markdown",
   "id": "92171f29-21f1-4966-bc5d-0b596cba7462",
   "metadata": {},
   "source": [
    "Beyond the outlines, we can also color the land and water regions to make them stand out. Lets start with the water using the **-W** option of the `coast` module."
   ]
  },
  {
   "cell_type": "code",
   "execution_count": null,
   "id": "b891be6c-db39-4dee-84cc-4df98c79ab6a",
   "metadata": {},
   "outputs": [],
   "source": [
    "%%bash\n",
    "\n",
    "gmt begin coastlines png\n",
    "    gmt coast -R125/155/30/55 -W -Slightblue\n",
    "gmt end"
   ]
  },
  {
   "cell_type": "code",
   "execution_count": null,
   "id": "a04ddc7b",
   "metadata": {},
   "outputs": [],
   "source": [
    "Image('coastlines.png', width=300)"
   ]
  },
  {
   "cell_type": "markdown",
   "id": "1576b6d6-e3f2-489f-bd9d-4838a07928a7",
   "metadata": {},
   "source": [
    "And now add the land in a light green color using the **-G** option."
   ]
  },
  {
   "cell_type": "code",
   "execution_count": null,
   "id": "9b715796-fa3b-45ba-bd10-7f1fa086ec0d",
   "metadata": {},
   "outputs": [],
   "source": [
    "%%bash\n",
    "\n",
    "gmt begin coastlines png\n",
    "    gmt coast -R125/155/30/55 -W -Slightblue -Glightgreen\n",
    "gmt end"
   ]
  },
  {
   "cell_type": "code",
   "execution_count": null,
   "id": "a04ddc7b",
   "metadata": {},
   "outputs": [],
   "source": [
    "Image('coastlines.png', width=300)"
   ]
  },
  {
   "cell_type": "markdown",
   "id": "793e6eb3-cb67-4482-9214-d15aaccdd14f",
   "metadata": {},
   "source": [
    "Alright, now we have a lovely figure with colored land and water plus some shorelines. But what are the coordinates associated with this map? Lets add a map frame to find out."
   ]
  },
  {
   "cell_type": "markdown",
   "id": "bb465476-c73c-4e13-9da8-82982037b6f9",
   "metadata": {},
   "source": [
    "## Drawing a map frame\n",
    "\n",
    "Adding a nice frame with coordinates, ticks, and labels is one of the jobs of the `basemap` module. Here, we'll use it to add automatic annotations (`\"a\"`) around the figure we just made above. It will be the last item we lay on our figure canvas to guarantee that it sits above any other plot elements."
   ]
  },
  {
   "cell_type": "code",
   "execution_count": null,
   "id": "683d3190-0c5d-4240-af56-3f71e171cd9a",
   "metadata": {},
   "outputs": [],
   "source": [
    "%%bash\n",
    "\n",
    "gmt begin coastlines png\n",
    "    gmt coast -R125/155/30/55 -W -Slightblue -Glightgreen\n",
    "    gmt basemap -Ba\n",
    "gmt end\n"
   ]
  },
  {
   "cell_type": "code",
   "execution_count": null,
   "id": "a04ddc7b",
   "metadata": {},
   "outputs": [],
   "source": [
    "Image('coastlines.png', width=300)"
   ]
  },
  {
   "cell_type": "markdown",
   "id": "62da8cfa-cbc7-4c26-830a-ab313ef62f92",
   "metadata": {},
   "source": [
    "Notice that the coordinates are automatically recognized as longitude and latitude and the tick spacing is chosen sensibly as well. \n",
    "\n",
    "There are many different ways in which we can customize the frame, from the ticks to the interval to the labels. Here we'll only cover a few of the most common things you'd want to do. Starting with..."
   ]
  },
  {
   "cell_type": "markdown",
   "id": "476a5c34-d5ba-419d-822c-c87818fbae43",
   "metadata": {},
   "source": [
    "## Adding minor ticks\n",
    "\n",
    "The ticks with annotations are known as \"major ticks\" (controlled by the `\"a\"`) value. You can also add automatic \"minor ticks\" which have a smaller interval and won't have annotations by adding `\"f\"` to the `frame` argument."
   ]
  },
  {
   "cell_type": "code",
   "execution_count": null,
   "id": "f2806711-a174-472d-84c7-5cb02d941f32",
   "metadata": {},
   "outputs": [],
   "source": [
    "%%bash\n",
    "\n",
    "gmt begin coastlines png\n",
    "    gmt coast -R125/155/30/55 -W -Slightblue -Glightgreen\n",
    "    gmt basemap -Baf\n",
    "gmt end"
   ]
  },
  {
   "cell_type": "code",
   "execution_count": null,
   "id": "a04ddc7b",
   "metadata": {},
   "outputs": [],
   "source": [
    "Image('coastlines.png', width=300)"
   ]
  },
  {
   "cell_type": "markdown",
   "id": "b3e7f5be-0126-48f5-8356-b00ad891523a",
   "metadata": {},
   "source": [
    "The frame is now set to have both annotations and minor ticks, both of which are optional (so `frame=\"f\"` would mean only having minor un-annotated ticks). Try it out!"
   ]
  },
  {
   "cell_type": "markdown",
   "id": "8b252f24-bd39-43c0-82ab-cfb815ca10c2",
   "metadata": {},
   "source": [
    "## Adding grid lines\n",
    "\n",
    "Grid lines are enabled by adding `\"g\"` to `frame`, just like we did for minor ticks. Again you can mix and match the three arguments `\"a\"`, `\"f\"`, and `\"g\"`."
   ]
  },
  {
   "cell_type": "code",
   "execution_count": null,
   "id": "58cda76a-5d1d-4fc9-9740-1007c2bcbb5f",
   "metadata": {},
   "outputs": [],
   "source": [
    "%%bash\n",
    "\n",
    "gmt begin coastlines png\n",
    "    gmt coast -R125/155/30/55 -W -Slightblue -Glightgreen\n",
    "    gmt basemap -Bafg\n",
    "gmt end"
   ]
  },
  {
   "cell_type": "code",
   "execution_count": null,
   "id": "a04ddc7b",
   "metadata": {},
   "outputs": [],
   "source": [
    "Image('coastlines.png', width=300)"
   ]
  },
  {
   "cell_type": "markdown",
   "id": "9bd6b281-c1eb-4ac4-b343-3e3bbf360247",
   "metadata": {},
   "source": [
    "By default the spacing of the grid lines is the same as the annotated major ticks.\n",
    "\n",
    ":::{note}\n",
    "Adding a frame with grid lines before you plot the colored land and water or an image will hide the grid lines beneath the subsequent plot. Make sure you put the call to `basemap` last to avoid this.\n",
    ":::"
   ]
  },
  {
   "cell_type": "markdown",
   "id": "08910ea2-f2a1-4673-a11e-78e2a64dbeaf",
   "metadata": {},
   "source": [
    "## Adding a title\n",
    "\n",
    "To add a title to the figure, we need to pass in more than one **-B** arguments to `basemap`. The extra argument for adding a title is a string with the format `\"+tMy title goes here\"`."
   ]
  },
  {
   "cell_type": "code",
   "execution_count": null,
   "id": "a8fdc242-9747-484d-aef2-ec618ad33579",
   "metadata": {},
   "outputs": [],
   "source": [
    "%%bash\n",
    "\n",
    "gmt begin coastlines png\n",
    "    gmt coast -R125/155/30/55 -W -Slightblue -Glightgreen\n",
    "    gmt basemap -Bafg -B+t'Coastlines around Japan'\n",
    "gmt end\n"
   ]
  },
  {
   "cell_type": "code",
   "execution_count": null,
   "id": "a04ddc7b",
   "metadata": {},
   "outputs": [],
   "source": [
    "Image('coastlines.png', width=300)"
   ]
  },
  {
   "cell_type": "markdown",
   "id": "57568142-fe18-45a4-8b5f-32b566b7be8e",
   "metadata": {},
   "source": [
    "## Choosing a projection\n",
    "\n",
    "In modern mode, GMT will chose a default projection based on the input data. Many projections are supported, which may often be better suited for your plots that the default selection (particularly around the polar regions or for larger global maps).\n",
    "\n",
    "For our case, let's go with a [Cassini projection](https://docs.generic-mapping-tools.org/6.3/cookbook/map-projections.html#jc). To specify this, we need to pass an argument for the **-J** option to the first plot method we call. The projection specification is a string starting with a 1-letter code for the projection followed by the projection arguments (particular to each projection) and finishing off with the physical width of the figure (in centimeters or inches, usually). For the Cassini projection, this is what it would look like: `-JC142.5/40/15c` in which `C` is for Cassini projection, `142.5` is the central longitude of the projection set to the center of our region, `40` is the same for the central latitude, and `15c` means the plot will be 15 centimeters wide on the page (this influences the relative size of fonts and tick labels). "
   ]
  },
  {
   "cell_type": "code",
   "execution_count": null,
   "id": "0f88d938-9451-46cc-9f49-0e4e57bfb2be",
   "metadata": {},
   "outputs": [],
   "source": [
    "%%bash\n",
    "\n",
    "gmt begin coastlines png\n",
    "    gmt coast -R125/155/30/55 -W -Slightblue -Glightgreen -JC140/40/15c\n",
    "    gmt basemap -Bafg -B+t'Coastlines around Japan'\n",
    "gmt end\n"
   ]
  },
  {
   "cell_type": "code",
   "execution_count": null,
   "id": "a04ddc7b",
   "metadata": {},
   "outputs": [],
   "source": [
    "Image('coastlines.png', width=300)"
   ]
  },
  {
   "cell_type": "markdown",
   "id": "3a16f6ec-03e6-48dc-b6af-04234858a5d9",
   "metadata": {},
   "source": [
    ":::{seealso}\n",
    "The [Projections Table](https://docs.generic-mapping-tools.org/6.3/cookbook/options.html#proj-codes) has links to examples for each projection along with a description of their parameters.\n",
    ":::"
   ]
  }
 ],
 "metadata": {
  "kernelspec": {
   "display_name": "Python 3 (ipykernel)",
   "language": "python",
   "name": "python3"
  },
  "language_info": {
   "codemirror_mode": {
    "name": "ipython",
    "version": 3
   },
   "file_extension": ".py",
   "mimetype": "text/x-python",
   "name": "python",
   "nbconvert_exporter": "python",
   "pygments_lexer": "ipython3",
   "version": "3.9.12"
  }
 },
 "nbformat": 4,
 "nbformat_minor": 5
}
